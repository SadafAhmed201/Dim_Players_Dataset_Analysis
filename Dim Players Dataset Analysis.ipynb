{
 "cells": [
  {
   "cell_type": "markdown",
   "id": "b0b335c4",
   "metadata": {},
   "source": [
    "# Dim Players Dataset Analysis"
   ]
  },
  {
   "cell_type": "code",
   "execution_count": 35,
   "id": "d07dec01",
   "metadata": {},
   "outputs": [],
   "source": [
    "from csv import reader\n",
    "open_file= open(\"dim_players_no_images.csv\", encoding = \"utf-8\")\n",
    "read_file = reader(open_file)\n",
    "dimplayer = list(read_file)"
   ]
  },
  {
   "cell_type": "code",
   "execution_count": 36,
   "id": "9339a5a2",
   "metadata": {},
   "outputs": [
    {
     "data": {
      "text/plain": [
       "[['name', 'battingStyle', 'bowlingStyle'],\n",
       " ['Michael van Lingen', 'Left hand Bat', 'Left arm Medium'],\n",
       " ['Divan la Cock', 'Right hand Bat', 'Legbreak'],\n",
       " ['Jan Nicol Loftie-Eaton', 'Left hand Bat', 'Right arm Medium, Legbreak'],\n",
       " ['Stephan Baard', 'Right hand Bat', 'Right arm Medium fast'],\n",
       " ['Gerhard Erasmus(c)', 'Right hand Bat', 'Right arm Offbreak'],\n",
       " ['Jan Frylinck', 'Left hand Bat', 'Left arm Fast medium'],\n",
       " ['David Wiese', 'Right hand Bat', 'Right arm Medium fast'],\n",
       " ['JJ Smit', 'Right hand Bat', 'Left arm Medium fast'],\n",
       " ['Pathum Nissanka', 'Right hand Bat', ''],\n",
       " ['Kusal Mendis', 'Right hand Bat', 'Legbreak'],\n",
       " ['Dhananjaya de Silva', 'Right hand Bat', 'Right arm Offbreak'],\n",
       " ['Danushka Gunathilaka', 'Left hand Bat', 'Right arm Offbreak'],\n",
       " ['Bhanuka Rajapaksa', 'Left hand Bat', 'Right arm Medium'],\n",
       " ['Dasun Shanaka(c)', 'Right hand Bat', 'Right arm Medium'],\n",
       " ['Wanindu Hasaranga de Silva', 'Right hand Bat', 'Legbreak'],\n",
       " ['Chamika Karunaratne', 'Right hand Bat', 'Right arm Medium fast'],\n",
       " ['Pramod Madushan', 'Right hand Bat', 'Right arm Medium fast'],\n",
       " ['Dushmantha Chameera', 'Right hand Bat', 'Right arm Fast'],\n",
       " ['Maheesh Theekshana', 'Right hand Bat', 'Right arm Offbreak'],\n",
       " ['Gerhard Erasmus', 'Right hand Bat', 'Right arm Offbreak'],\n",
       " ['Bernard Scholtz', 'Right hand Bat', 'Slow Left arm Orthodox'],\n",
       " ['Ben Shikongo', 'Right hand Bat', 'Right arm Medium fast'],\n",
       " ['Charith Asalanka', 'Left hand Bat', 'Right arm Offbreak'],\n",
       " ['David Warner', 'Left hand Bat', 'Legbreak'],\n",
       " ['Aaron Finch(c)', 'Right hand Bat', 'Slow Left arm Orthodox'],\n",
       " ['Mitchell Marsh', 'Right hand Bat', 'Right arm Medium'],\n",
       " ['Glenn Maxwell', 'Right hand Bat', 'Right arm Offbreak'],\n",
       " ['Marcus Stoinis', 'Right hand Bat', 'Right arm Medium'],\n",
       " ['Josh Hazlewood', 'Left hand Bat', 'Right arm Fast medium'],\n",
       " ['Pat Cummins', 'Right hand Bat', 'Right arm Fast'],\n",
       " ['Mitchell Starc', 'Left hand Bat', 'Left arm Fast'],\n",
       " ['Ashton Agar', 'Left hand Bat', 'Slow Left arm Orthodox'],\n",
       " ['Binura Fernando', 'Right hand Bat', 'Left arm Medium fast'],\n",
       " ['Lahiru Kumara', 'Left hand Bat', 'Right arm Fast'],\n",
       " ['Dasun Shanaka', 'Right hand Bat', 'Right arm Medium'],\n",
       " ['Regis Chakabva', 'Right hand Bat', 'Right arm Offbreak'],\n",
       " ['Craig Ervine(c)', 'Left hand Bat', 'Right arm Offbreak'],\n",
       " ['Wessly Madhevere', 'Right hand Bat', 'Right arm Offbreak'],\n",
       " ['Sean Williams', 'Left hand Bat', 'Slow Left arm Orthodox'],\n",
       " ['Sikandar Raza', 'Right hand Bat', 'Right arm Offbreak'],\n",
       " ['Milton Shumba', 'Left hand Bat', 'Slow Left arm Orthodox'],\n",
       " ['Ryan Burl', 'Left hand Bat', 'Legbreak'],\n",
       " ['Luke Jongwe', 'Right hand Bat', 'Right arm Fast medium'],\n",
       " ['Paul Stirling', 'Right hand Bat', 'Right arm Offbreak'],\n",
       " ['Andy Balbirnie(c)', 'Right hand Bat', 'Right arm Offbreak'],\n",
       " ['Lorcan Tucker', 'Right hand Bat', ''],\n",
       " ['Harry Tector', 'Right hand Bat', 'Right arm Offbreak'],\n",
       " ['Curtis Campher', 'Right hand Bat', 'Right arm Medium fast'],\n",
       " ['George Dockrell', 'Right hand Bat', 'Slow Left arm Orthodox'],\n",
       " ['Gareth Delany', 'Right hand Bat', 'Legbreak Googly'],\n",
       " ['Mark Adair', 'Right hand Bat', 'Right arm Fast medium'],\n",
       " ['Simi Singh', 'Right hand Bat', 'Right arm Offbreak, Legbreak Googly'],\n",
       " ['Barry McCarthy', 'Right hand Bat', 'Right arm Fast medium'],\n",
       " ['Josh Little', 'Right hand Bat', 'Left arm Fast medium'],\n",
       " ['Richard Ngarava', 'Left hand Bat', 'Left arm Fast medium'],\n",
       " ['Tendai Chatara', 'Right hand Bat', 'Right arm Fast medium'],\n",
       " ['Blessing Muzarabani', 'Right hand Bat', 'Right arm Fast medium'],\n",
       " ['Hazratullah Zazai', 'Left hand Bat', 'Slow Left arm Orthodox'],\n",
       " ['Rahmanullah Gurbaz', 'Right hand Bat', ''],\n",
       " ['Ibrahim Zadran', 'Right hand Bat', 'Right arm Medium fast'],\n",
       " ['Usman Ghani', 'Right hand Bat', ''],\n",
       " ['Najibullah Zadran', 'Left hand Bat', 'Right arm Offbreak'],\n",
       " ['Mohammad Nabi(c)', 'Right hand Bat', 'Right arm Offbreak'],\n",
       " ['Azmatullah Omarzai', 'Right hand Bat', 'Right arm Medium fast'],\n",
       " ['Rashid Khan', 'Right hand Bat', 'Legbreak Googly'],\n",
       " ['Mujeeb Ur Rahman', 'Right hand Bat', 'Right arm Offbreak'],\n",
       " ['Fareed Ahmad', 'Left hand Bat', 'Left arm Fast medium'],\n",
       " ['Fazalhaq Farooqi', 'Right hand Bat', 'Left arm Fast medium'],\n",
       " ['Jos Buttler(c)', 'Right hand Bat', ''],\n",
       " ['Alex Hales', 'Right hand Bat', 'Right arm Medium'],\n",
       " ['Dawid Malan', 'Left hand Bat', 'Legbreak'],\n",
       " ['Ben Stokes', 'Left hand Bat', 'Right arm Fast medium'],\n",
       " ['Liam Livingstone', 'Right hand Bat', 'Legbreak'],\n",
       " ['Harry Brook', 'Right hand Bat', 'Right arm Medium'],\n",
       " ['Moeen Ali', 'Left hand Bat', 'Right arm Offbreak'],\n",
       " ['Chris Woakes', 'Right hand Bat', 'Right arm Fast medium'],\n",
       " ['Mark Wood', 'Right hand Bat', 'Right arm Fast'],\n",
       " ['Sam Curran', 'Left hand Bat', 'Left arm Medium fast'],\n",
       " ['Adil Rashid', 'Right hand Bat', 'Legbreak'],\n",
       " ['Mohammad Nabi', 'Right hand Bat', 'Right arm Offbreak'],\n",
       " ['Muhammad Waseem', 'Right hand Bat', 'Right arm Medium'],\n",
       " ['Vriitya Aravind', 'Right hand Bat', ''],\n",
       " ['Chundangapoyil Rizwan(c)', 'Right hand Bat', 'Legbreak Googly'],\n",
       " ['Alishan Sharafu', 'Right hand Bat', 'Right arm Medium'],\n",
       " ['Basil Hameed', 'Right hand Bat', 'Right arm Offbreak'],\n",
       " ['Zane Green', 'Left hand Bat', ''],\n",
       " ['Ruben Trumpelmann', 'Right hand Bat', 'Left arm Fast'],\n",
       " ['Junaid Siddique', 'Right hand Bat', 'Right arm Medium fast'],\n",
       " ['Zahoor Khan', 'Right hand Bat', 'Right arm Medium fast'],\n",
       " ['Ahmed Raza', 'Right hand Bat', 'Slow Left arm Orthodox'],\n",
       " ['Karthik Meiyappan', 'Right hand Bat', 'Legbreak'],\n",
       " ['Aayan Afzal Khan', 'Right hand Bat', 'Slow Left arm Orthodox'],\n",
       " ['Chirag Suri', 'Right hand Bat', 'Right arm Offbreak, Legbreak Googly'],\n",
       " ['Kashif Daud', 'Right hand Bat', 'Right arm Medium fast'],\n",
       " ['Zawar Farid', 'Right hand Bat', 'Right arm Medium'],\n",
       " ['Vikramjit Singh', 'Left hand Bat', 'Right arm Medium fast'],\n",
       " [\"Max O'Dowd\", 'Right hand Bat', 'Right arm Offbreak'],\n",
       " ['Bas de Leede', 'Right hand Bat', 'Right arm Fast medium'],\n",
       " ['Colin Ackermann', 'Right hand Bat', 'Right arm Offbreak'],\n",
       " ['Tom Cooper', 'Right hand Bat', 'Right arm Offbreak'],\n",
       " ['Scott Edwards(c)', 'Right hand Bat', ''],\n",
       " ['Roelof van der Merwe', 'Right hand Bat', 'Slow Left arm Orthodox'],\n",
       " ['Tim Pringle', 'Right hand Bat', 'Slow Left arm Orthodox'],\n",
       " ['Logan van Beek', 'Right hand Bat', 'Right arm Medium fast'],\n",
       " ['Fred Klaassen', 'Right hand Bat', 'Left arm Fast medium'],\n",
       " ['Paul van Meekeren', 'Right hand Bat', 'Right arm Fast medium'],\n",
       " ['Kyle Mayers', 'Left hand Bat', 'Right arm Medium'],\n",
       " ['Johnson Charles', 'Right hand Bat', ''],\n",
       " ['Evin Lewis', 'Left hand Bat', ''],\n",
       " ['Brandon King', 'Right hand Bat', ''],\n",
       " ['Nicholas Pooran(c)', 'Left hand Bat', 'Right arm Offbreak'],\n",
       " ['Rovman Powell', 'Right hand Bat', 'Right arm Medium fast'],\n",
       " ['Odean Smith', 'Right hand Bat', 'Right arm Fast medium'],\n",
       " ['Obed McCoy', 'Left hand Bat', 'Left arm Fast medium'],\n",
       " ['Akeal Hosein', 'Left hand Bat', 'Slow Left arm Orthodox'],\n",
       " ['Alzarri Joseph', 'Right hand Bat', 'Right arm Fast'],\n",
       " ['Jason Holder', 'Right hand Bat', 'Right arm Medium fast'],\n",
       " ['Mohammad Rizwan', 'Right hand Bat', ''],\n",
       " ['Babar Azam(c)', 'Right hand Bat', 'Right arm Offbreak'],\n",
       " ['Shan Masood', 'Left hand Bat', 'Right arm Medium fast'],\n",
       " ['Iftikhar Ahmed', 'Right hand Bat', 'Right arm Offbreak'],\n",
       " ['Shadab Khan', 'Right hand Bat', 'Legbreak'],\n",
       " ['Haider Ali', 'Right hand Bat', ''],\n",
       " ['Mohammad Nawaz', 'Left hand Bat', 'Slow Left arm Orthodox'],\n",
       " ['Asif Ali', 'Right hand Bat', 'Right arm Offbreak'],\n",
       " ['Shaheen Shah Afridi', 'Left hand Bat', 'Left arm Fast'],\n",
       " ['Haris Rauf', 'Right hand Bat', 'Right arm Fast'],\n",
       " ['KL Rahul', 'Right hand Bat', ''],\n",
       " ['Rohit Sharma(c)', 'Right hand Bat', 'Right arm Offbreak'],\n",
       " ['Virat Kohli', 'Right hand Bat', 'Right arm Medium'],\n",
       " ['Suryakumar Yadav',\n",
       "  'Right hand Bat',\n",
       "  'Right arm Medium, Right arm Offbreak'],\n",
       " ['Axar Patel', 'Left hand Bat', 'Slow Left arm Orthodox'],\n",
       " ['Hardik Pandya', 'Right hand Bat', 'Right arm Medium fast'],\n",
       " ['Dinesh Karthik', 'Right hand Bat', 'Right arm Offbreak'],\n",
       " ['Ravichandran Ashwin', 'Right hand Bat', 'Right arm Offbreak'],\n",
       " ['Bhuvneshwar Kumar', 'Right hand Bat', 'Right arm Medium'],\n",
       " ['Arshdeep Singh', 'Left hand Bat', 'Left arm Medium fast'],\n",
       " ['Mohammed Shami', 'Right hand Bat', 'Right arm Fast'],\n",
       " ['Naseem Shah', 'Right hand Bat', 'Right arm Fast'],\n",
       " ['Najmul Hossain Shanto', 'Left hand Bat', 'Right arm Offbreak'],\n",
       " ['Soumya Sarkar', 'Left hand Bat', 'Right arm Medium fast'],\n",
       " ['Litton Das', 'Right hand Bat', ''],\n",
       " ['Shakib Al Hasan(c)', 'Left hand Bat', 'Slow Left arm Orthodox'],\n",
       " ['Afif Hossain', 'Left hand Bat', 'Right arm Offbreak'],\n",
       " ['Yasir Ali', 'Right hand Bat', 'Right arm Offbreak'],\n",
       " ['Nurul Hasan', 'Right hand Bat', ''],\n",
       " ['Mosaddek Hossain', 'Right hand Bat', 'Right arm Offbreak'],\n",
       " ['Taskin Ahmed', 'Left hand Bat', 'Right arm Fast'],\n",
       " ['Hasan Mahmud', 'Right hand Bat', 'Right arm Medium'],\n",
       " ['Shariz Ahmad', 'Left hand Bat', 'Legbreak Googly'],\n",
       " ['Shakib Al Hasan', 'Left hand Bat', 'Slow Left arm Orthodox'],\n",
       " ['Mustafizur Rahman', 'Left hand Bat', 'Left arm Fast medium'],\n",
       " ['Fionn Hand', 'Right hand Bat', 'Right arm Medium'],\n",
       " ['George Munsey', 'Left hand Bat', 'Right arm Medium fast'],\n",
       " ['Michael Jones', 'Right hand Bat', 'Right arm Offbreak'],\n",
       " ['Matthew Cross', 'Right hand Bat', ''],\n",
       " ['Richie Berrington(c)', 'Right hand Bat', 'Right arm Medium fast'],\n",
       " ['Calum MacLeod',\n",
       "  'Right hand Bat',\n",
       "  'Right arm Medium fast, Right arm Offbreak'],\n",
       " ['Michael Leask', 'Right hand Bat', 'Right arm Offbreak'],\n",
       " ['Chris Greaves', 'Right hand Bat', 'Legbreak'],\n",
       " ['Shamarh Brooks', 'Right hand Bat', 'Legbreak'],\n",
       " ['Mark Watt', 'Left hand Bat', 'Slow Left arm Orthodox'],\n",
       " ['Brad Wheal', 'Right hand Bat', 'Right arm Fast medium'],\n",
       " ['Josh Davey', 'Right hand Bat', 'Right arm Medium fast'],\n",
       " ['Safyaan Sharif', 'Right hand Bat', 'Right arm Medium fast'],\n",
       " ['Quinton de Kock', 'Left hand Bat', ''],\n",
       " ['Temba Bavuma(c)', 'Right hand Bat', 'Right arm Medium'],\n",
       " ['Kagiso Rabada', 'Left hand Bat', 'Right arm Fast'],\n",
       " ['Wayne Parnell', 'Left hand Bat', 'Left arm Medium fast'],\n",
       " ['Lungi Ngidi', 'Right hand Bat', 'Right arm Fast medium'],\n",
       " ['Keshav Maharaj', 'Right hand Bat', 'Slow Left arm Orthodox'],\n",
       " ['Anrich Nortje', 'Right hand Bat', 'Right arm Fast'],\n",
       " ['Timm van der Gugten', 'Right hand Bat', 'Right arm Fast medium'],\n",
       " ['Finn Allen', 'Right hand Bat', ''],\n",
       " ['Devon Conway', 'Left hand Bat', 'Right arm Medium'],\n",
       " ['Kane Williamson(c)', 'Right hand Bat', 'Right arm Offbreak'],\n",
       " ['Glenn Phillips', 'Right hand Bat', 'Right arm Offbreak'],\n",
       " ['James Neesham', 'Left hand Bat', 'Right arm Medium fast'],\n",
       " ['Tim David', 'Right hand Bat', 'Right arm Offbreak'],\n",
       " ['Matthew Wade', 'Left hand Bat', 'Right arm Medium'],\n",
       " ['Adam Zampa', 'Right hand Bat', 'Legbreak Googly'],\n",
       " ['Trent Boult', 'Right hand Bat', 'Left arm Fast medium'],\n",
       " ['Tim Southee', 'Right hand Bat', 'Right arm Medium fast'],\n",
       " ['Mitchell Santner', 'Left hand Bat', 'Slow Left arm Orthodox'],\n",
       " ['Lockie Ferguson', 'Right hand Bat', 'Right arm Fast'],\n",
       " ['Ish Sodhi', 'Right hand Bat', 'Legbreak'],\n",
       " ['Aryan Lakra', 'Left hand Bat', 'Slow Left arm Orthodox'],\n",
       " ['Stephan Myburgh', 'Left hand Bat', 'Right arm Offbreak'],\n",
       " ['Brandon Glover', 'Right hand Bat', 'Right arm Fast'],\n",
       " ['Shoriful Islam', 'Left hand Bat', 'Left arm Medium fast'],\n",
       " ['Daryl Mitchell', 'Right hand Bat', 'Right arm Medium'],\n",
       " ['Kasun Rajitha', 'Right hand Bat', 'Right arm Medium fast'],\n",
       " ['Deepak Hooda', 'Right hand Bat', 'Right arm Offbreak'],\n",
       " ['Rilee Rossouw', 'Left hand Bat', 'Right arm Offbreak'],\n",
       " ['Aiden Markram', 'Right hand Bat', 'Right arm Offbreak'],\n",
       " ['David Miller', 'Left hand Bat', 'Right arm Offbreak'],\n",
       " ['Tristan Stubbs', 'Right hand Bat', 'Right arm Offbreak'],\n",
       " ['Nasum Ahmed', 'Left hand Bat', 'Slow Left arm Orthodox'],\n",
       " ['Mohammad Haris', 'Right hand Bat', 'Right arm Offbreak'],\n",
       " ['Mohammad Wasim', 'Right hand Bat', 'Right arm Fast medium'],\n",
       " ['Ebadot Hossain', 'Right hand Bat', 'Right arm Fast medium'],\n",
       " ['Heinrich Klaasen', 'Right hand Bat', 'Right arm Offbreak'],\n",
       " ['Brad Evans', 'Right hand Bat', 'Right arm Fast'],\n",
       " ['Fakhar Zaman', 'Left hand Bat', 'Slow Left arm Orthodox'],\n",
       " ['Cameron Green', 'Right hand Bat', 'Right arm Fast medium'],\n",
       " ['Steven Smith', 'Right hand Bat', 'Legbreak Googly'],\n",
       " ['Matthew Wade(c)', 'Left hand Bat', 'Right arm Medium'],\n",
       " ['Kane Richardson', 'Right hand Bat', 'Right arm Fast medium'],\n",
       " ['Gulbadin Naib', 'Right hand Bat', 'Right arm Medium fast'],\n",
       " ['Darwish Rasooli', 'Right hand Bat', 'Right arm Offbreak'],\n",
       " ['Naveen-ul-Haq', 'Right hand Bat', 'Right arm Medium fast'],\n",
       " ['Rishabh Pant', 'Left hand Bat', ''],\n",
       " ['Tony Munyonga', 'Right hand Bat', 'Right arm Offbreak'],\n",
       " ['Wellington Masakadza', 'Left hand Bat', 'Slow Left arm Orthodox'],\n",
       " ['Tabraiz Shamsi', 'Right hand Bat', 'Left arm Wrist spin'],\n",
       " ['Phil Salt', 'Right hand Bat', 'Right arm Offbreak'],\n",
       " ['Chris Jordan', 'Right hand Bat', 'Right arm Fast medium'],\n",
       " ['Regis Chakabva(c)', 'Right hand Bat', 'Right arm Offbreak'],\n",
       " ['Mehidy Hasan Miraz', 'Right hand Bat', 'Right arm Offbreak']]"
      ]
     },
     "execution_count": 36,
     "metadata": {},
     "output_type": "execute_result"
    }
   ],
   "source": [
    "dimplayer"
   ]
  },
  {
   "cell_type": "code",
   "execution_count": 37,
   "id": "0587ac41",
   "metadata": {},
   "outputs": [
    {
     "data": {
      "text/plain": [
       "['name', 'battingStyle', 'bowlingStyle']"
      ]
     },
     "execution_count": 37,
     "metadata": {},
     "output_type": "execute_result"
    }
   ],
   "source": [
    "dimplayer[0]"
   ]
  },
  {
   "cell_type": "markdown",
   "id": "2ecbfc8f",
   "metadata": {},
   "source": [
    "# Count how number of players have left hand batting style and right hand batting style"
   ]
  },
  {
   "cell_type": "code",
   "execution_count": 38,
   "id": "bf7770b3",
   "metadata": {},
   "outputs": [],
   "source": [
    "frq_batting_style= {}\n",
    "\n",
    "for i in dimplayer[1:]:\n",
    "    batting_style = i[1]\n",
    "    if batting_style in frq_batting_style:\n",
    "        frq_batting_style[batting_style] +=1\n",
    "    else:\n",
    "        frq_batting_style[batting_style] =1\n",
    "        "
   ]
  },
  {
   "cell_type": "code",
   "execution_count": 39,
   "id": "eee2c246",
   "metadata": {},
   "outputs": [
    {
     "data": {
      "text/plain": [
       "{'Left hand Bat': 62, 'Right hand Bat': 157}"
      ]
     },
     "execution_count": 39,
     "metadata": {},
     "output_type": "execute_result"
    }
   ],
   "source": [
    "frq_batting_style"
   ]
  },
  {
   "cell_type": "markdown",
   "id": "70d20d50",
   "metadata": {},
   "source": [
    "# Count how number of players have left bowling style and right bowling style"
   ]
  },
  {
   "cell_type": "code",
   "execution_count": 40,
   "id": "54d1cee6",
   "metadata": {},
   "outputs": [],
   "source": [
    "frq_bowlStyl ={}\n",
    "\n",
    "for i in dimplayer[1:]:\n",
    "    bowl_styl = i[2]\n",
    "    if bowl_styl in frq_bowlStyl:\n",
    "        frq_bowlStyl[bowl_styl] +=1\n",
    "    else:\n",
    "        frq_bowlStyl[bowl_styl] =1"
   ]
  },
  {
   "cell_type": "code",
   "execution_count": 41,
   "id": "ab977423",
   "metadata": {},
   "outputs": [
    {
     "data": {
      "text/plain": [
       "{'Left arm Medium': 1,\n",
       " 'Legbreak': 13,\n",
       " 'Right arm Medium, Legbreak': 1,\n",
       " 'Right arm Medium fast': 27,\n",
       " 'Right arm Offbreak': 52,\n",
       " 'Left arm Fast medium': 9,\n",
       " 'Left arm Medium fast': 6,\n",
       " '': 20,\n",
       " 'Right arm Medium': 20,\n",
       " 'Right arm Fast': 14,\n",
       " 'Slow Left arm Orthodox': 23,\n",
       " 'Right arm Fast medium': 19,\n",
       " 'Left arm Fast': 3,\n",
       " 'Legbreak Googly': 6,\n",
       " 'Right arm Offbreak, Legbreak Googly': 2,\n",
       " 'Right arm Medium, Right arm Offbreak': 1,\n",
       " 'Right arm Medium fast, Right arm Offbreak': 1,\n",
       " 'Left arm Wrist spin': 1}"
      ]
     },
     "execution_count": 41,
     "metadata": {},
     "output_type": "execute_result"
    }
   ],
   "source": [
    "frq_bowlStyl"
   ]
  },
  {
   "cell_type": "markdown",
   "id": "ed901318",
   "metadata": {},
   "source": [
    "#  Name the player who has Left arm Wrist spin bowlingStyle"
   ]
  },
  {
   "cell_type": "code",
   "execution_count": 42,
   "id": "fd3d9606",
   "metadata": {},
   "outputs": [
    {
     "name": "stdout",
     "output_type": "stream",
     "text": [
      "Tabraiz Shamsi ---- Left arm Wrist spin\n"
     ]
    }
   ],
   "source": [
    "for i in dimplayer[1:]:\n",
    "    name = i[0]\n",
    "    Bowl_styl = i[2]\n",
    "    if Bowl_styl == \"Left arm Wrist spin\":\n",
    "        print(name, \"----\", Bowl_styl)"
   ]
  },
  {
   "cell_type": "markdown",
   "id": "811d8c24",
   "metadata": {},
   "source": [
    "#  Name the players who has 'Left arm Fast' and 'Right arm Fast' bowlingStyle"
   ]
  },
  {
   "cell_type": "code",
   "execution_count": 43,
   "id": "a9e806b8",
   "metadata": {},
   "outputs": [
    {
     "name": "stdout",
     "output_type": "stream",
     "text": [
      "Dushmantha Chameera ---- Right arm Fast\n",
      "Pat Cummins ---- Right arm Fast\n",
      "Mitchell Starc ---- Left arm Fast\n",
      "Lahiru Kumara ---- Right arm Fast\n",
      "Mark Wood ---- Right arm Fast\n",
      "Ruben Trumpelmann ---- Left arm Fast\n",
      "Alzarri Joseph ---- Right arm Fast\n",
      "Shaheen Shah Afridi ---- Left arm Fast\n",
      "Haris Rauf ---- Right arm Fast\n",
      "Mohammed Shami ---- Right arm Fast\n",
      "Naseem Shah ---- Right arm Fast\n",
      "Taskin Ahmed ---- Right arm Fast\n",
      "Kagiso Rabada ---- Right arm Fast\n",
      "Anrich Nortje ---- Right arm Fast\n",
      "Lockie Ferguson ---- Right arm Fast\n",
      "Brandon Glover ---- Right arm Fast\n",
      "Brad Evans ---- Right arm Fast\n"
     ]
    }
   ],
   "source": [
    "for i in dimplayer[1:]:\n",
    "    name = i[0]\n",
    "    bowlStyl = i[2]\n",
    "    if bowlStyl == \"Left arm Fast\" or bowlStyl == \"Right arm Fast\":\n",
    "        print (name, \"----\",bowlStyl)"
   ]
  },
  {
   "cell_type": "code",
   "execution_count": null,
   "id": "f45dad38",
   "metadata": {},
   "outputs": [],
   "source": []
  }
 ],
 "metadata": {
  "kernelspec": {
   "display_name": "Python 3 (ipykernel)",
   "language": "python",
   "name": "python3"
  },
  "language_info": {
   "codemirror_mode": {
    "name": "ipython",
    "version": 3
   },
   "file_extension": ".py",
   "mimetype": "text/x-python",
   "name": "python",
   "nbconvert_exporter": "python",
   "pygments_lexer": "ipython3",
   "version": "3.9.13"
  }
 },
 "nbformat": 4,
 "nbformat_minor": 5
}
